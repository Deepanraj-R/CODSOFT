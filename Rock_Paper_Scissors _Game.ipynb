{
 "cells": [
  {
   "cell_type": "code",
   "execution_count": 3,
   "id": "caa299fc-b7e3-451b-9566-679525306a4d",
   "metadata": {},
   "outputs": [
    {
     "name": "stdout",
     "output_type": "stream",
     "text": [
      "\n",
      "--- New Round ---\n"
     ]
    },
    {
     "name": "stdin",
     "output_type": "stream",
     "text": [
      "Enter your choice (rock, paper, or scissors):  rock\n"
     ]
    },
    {
     "name": "stdout",
     "output_type": "stream",
     "text": [
      "\n",
      "You chose: rock\n",
      "Computer chose: scissors\n",
      " You win!\n",
      "\n",
      " Score (After 1 rounds) -> You: 1 | Computer: 0\n"
     ]
    },
    {
     "name": "stdin",
     "output_type": "stream",
     "text": [
      "\n",
      "Play again? (yes/no/stats):  no\n"
     ]
    },
    {
     "name": "stdout",
     "output_type": "stream",
     "text": [
      "\n",
      "Thanks for playing! \n"
     ]
    }
   ],
   "source": [
    "import random\n",
    "\n",
    "def get_choice(prompt, options):\n",
    "    while True:\n",
    "        choice = input(prompt).lower()\n",
    "        if choice in options:\n",
    "            return choice\n",
    "        print(f\"Invalid choice. Please enter one of {options}.\")\n",
    "\n",
    "def get_winner(player, computer):\n",
    "    if player == computer:\n",
    "        return \"tie\"\n",
    "    \n",
    "    winning_combos = {\n",
    "        \"rock\": \"scissors\",\n",
    "        \"scissors\": \"paper\",\n",
    "        \"paper\": \"rock\"\n",
    "    }\n",
    "    return \"player\" if winning_combos[player] == computer else \"computer\"\n",
    "\n",
    "def play_round():\n",
    "    print(\"\\n--- New Round ---\")\n",
    "    player_choice = get_choice(\"Enter your choice (rock, paper, or scissors): \", [\"rock\", \"paper\", \"scissors\"])\n",
    "    computer_choice = random.choice([\"rock\", \"paper\", \"scissors\"])\n",
    "\n",
    "    print(f\"\\nYou chose: {player_choice}\")\n",
    "    print(f\"Computer chose: {computer_choice}\")\n",
    "\n",
    "    winner = get_winner(player_choice, computer_choice)\n",
    "    messages = {\"player\": \" You win!\", \"computer\": \" Computer wins!\", \"tie\": \" It's a tie!\"}\n",
    "    print(messages[winner])\n",
    "    return winner\n",
    "\n",
    "def main():\n",
    "    player_score, computer_score = 0, 0\n",
    "    rounds_played = 0\n",
    "\n",
    "    while True:\n",
    "        winner = play_round()\n",
    "\n",
    "        if winner == \"player\":\n",
    "            player_score += 1\n",
    "        elif winner == \"computer\":\n",
    "            computer_score += 1\n",
    "        rounds_played += 1\n",
    "\n",
    "        print(f\"\\n Score (After {rounds_played} rounds) -> You: {player_score} | Computer: {computer_score}\")\n",
    "\n",
    "        next_action = get_choice(\"\\nPlay again? (yes/no/stats): \", [\"yes\", \"no\", \"stats\"])\n",
    "        if next_action == \"no\":\n",
    "            print(\"\\nThanks for playing! \")\n",
    "            break\n",
    "        elif next_action == \"stats\":\n",
    "            if rounds_played > 0:\n",
    "                win_percentage = (player_score / rounds_played) * 100\n",
    "                print(f\"\\n--- Game Statistics ---\")\n",
    "                print(f\"Rounds Played: {rounds_played}\")\n",
    "                print(f\"Your Wins: {player_score}\")\n",
    "                print(f\"Computer Wins: {computer_score}\")\n",
    "                print(f\"Your Win Percentage: {win_percentage:.2f}%\")\n",
    "            else:\n",
    "                print(\"No rounds played yet.\")\n",
    "\n",
    "if __name__ == \"__main__\":\n",
    "    main()\n"
   ]
  }
 ],
 "metadata": {
  "kernelspec": {
   "display_name": "Python 3 (ipykernel)",
   "language": "python",
   "name": "python3"
  },
  "language_info": {
   "codemirror_mode": {
    "name": "ipython",
    "version": 3
   },
   "file_extension": ".py",
   "mimetype": "text/x-python",
   "name": "python",
   "nbconvert_exporter": "python",
   "pygments_lexer": "ipython3",
   "version": "3.12.7"
  }
 },
 "nbformat": 4,
 "nbformat_minor": 5
}
