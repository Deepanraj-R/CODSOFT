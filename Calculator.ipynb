{
 "cells": [
  {
   "cell_type": "code",
   "execution_count": 1,
   "id": "41d71ba9-e717-4229-8190-106b718038cd",
   "metadata": {},
   "outputs": [
    {
     "name": "stdout",
     "output_type": "stream",
     "text": [
      "Welcome to the Calculator!\n",
      "Available operations:\n",
      "1. Addition\n",
      "2. Subtraction\n",
      "3. Multiplication\n",
      "4. Division\n",
      "5. Exponentiation\n",
      "6. Square Root\n",
      "7. Cubic Root\n",
      "8. Exit\n"
     ]
    },
    {
     "name": "stdin",
     "output_type": "stream",
     "text": [
      "Select your choice (1-8):  1\n",
      "Enter first number:  3\n",
      "Enter second number:  4\n"
     ]
    },
    {
     "name": "stdout",
     "output_type": "stream",
     "text": [
      "Result: 7.0\n"
     ]
    },
    {
     "name": "stdin",
     "output_type": "stream",
     "text": [
      "Select your choice (1-8):  2\n",
      "Enter first number:  9\n",
      "Enter second number:  2\n"
     ]
    },
    {
     "name": "stdout",
     "output_type": "stream",
     "text": [
      "Result: 7.0\n"
     ]
    },
    {
     "name": "stdin",
     "output_type": "stream",
     "text": [
      "Select your choice (1-8):  3\n",
      "Enter first number:  7\n",
      "Enter second number:  7\n"
     ]
    },
    {
     "name": "stdout",
     "output_type": "stream",
     "text": [
      "Result: 49.0\n"
     ]
    },
    {
     "name": "stdin",
     "output_type": "stream",
     "text": [
      "Select your choice (1-8):  4\n",
      "Enter first number:  49\n",
      "Enter second number:  7\n"
     ]
    },
    {
     "name": "stdout",
     "output_type": "stream",
     "text": [
      "Result: 7.0\n"
     ]
    },
    {
     "name": "stdin",
     "output_type": "stream",
     "text": [
      "Select your choice (1-8):  5\n",
      "Enter first number:  7\n",
      "Enter second number:  2\n"
     ]
    },
    {
     "name": "stdout",
     "output_type": "stream",
     "text": [
      "Result: 49.0\n"
     ]
    },
    {
     "name": "stdin",
     "output_type": "stream",
     "text": [
      "Select your choice (1-8):  6\n",
      "Enter number:  81\n"
     ]
    },
    {
     "name": "stdout",
     "output_type": "stream",
     "text": [
      "Result: 9.0\n"
     ]
    },
    {
     "name": "stdin",
     "output_type": "stream",
     "text": [
      "Select your choice (1-8):  7\n",
      "Enter number:  256\n"
     ]
    },
    {
     "name": "stdout",
     "output_type": "stream",
     "text": [
      "Result: 6.3496042078727974\n"
     ]
    },
    {
     "name": "stdin",
     "output_type": "stream",
     "text": [
      "Select your choice (1-8):  8\n"
     ]
    },
    {
     "name": "stdout",
     "output_type": "stream",
     "text": [
      "Exiting the program.\n"
     ]
    }
   ],
   "source": [
    "import math\n",
    "\n",
    "class MathOperations:\n",
    "    def addition(self, a, b):\n",
    "        return a + b\n",
    "\n",
    "    def subtraction(self, a, b):\n",
    "        return a - b\n",
    "\n",
    "    def multiplication(self, a, b):\n",
    "        return a * b\n",
    "\n",
    "    def division(self, a, b):\n",
    "        if b == 0:\n",
    "            return \"Error! Division by zero.\"\n",
    "        return a / b\n",
    "\n",
    "    def exponentiation(self, a, b):\n",
    "        return a ** b\n",
    "\n",
    "    def square_root(self, a):\n",
    "        if a < 0:\n",
    "            return \"Error: Square root of a negative number is undefined in real numbers\"\n",
    "        return math.sqrt(a)\n",
    "\n",
    "    def cubic_root(self, a):\n",
    "        return a ** (1/3)\n",
    "\n",
    "    def execute(self):\n",
    "        print(\"Welcome to the Calculator!\")\n",
    "        print(\"Available operations:\")\n",
    "        print(\"1. Addition\")\n",
    "        print(\"2. Subtraction\")\n",
    "        print(\"3. Multiplication\")\n",
    "        print(\"4. Division\")\n",
    "        print(\"5. Exponentiation\")\n",
    "        print(\"6. Square Root\")\n",
    "        print(\"7. Cubic Root\")\n",
    "        print(\"8. Exit\")\n",
    "        \n",
    "        while True:\n",
    "            try:\n",
    "                choice = input(\"Select your choice (1-8): \")\n",
    "                \n",
    "                if choice == '8':\n",
    "                    print(\"Exiting the program.\")\n",
    "                    break\n",
    "                \n",
    "                if choice in ['1', '2', '3', '4', '5']:\n",
    "                    num1 = float(input(\"Enter first number: \"))\n",
    "                    num2 = float(input(\"Enter second number: \"))\n",
    "                    \n",
    "                    if choice == '1':\n",
    "                        result = self.addition(num1, num2)\n",
    "                    elif choice == '2':\n",
    "                        result = self.subtraction(num1, num2)\n",
    "                    elif choice == '3':\n",
    "                        result = self.multiplication(num1, num2)\n",
    "                    elif choice == '4':\n",
    "                        result = self.division(num1, num2)\n",
    "                    elif choice == '5':\n",
    "                        result = self.exponentiation(num1, num2)\n",
    "                \n",
    "                elif choice in ['6', '7']:\n",
    "                    num = float(input(\"Enter number: \"))\n",
    "                    \n",
    "                    if choice == '6':\n",
    "                        result = self.square_root(num)\n",
    "                    elif choice == '7':\n",
    "                        result = self.cubic_root(num)\n",
    "                else:\n",
    "                    result = \"Invalid choice!\"\n",
    "                \n",
    "                print(\"Result:\", result)\n",
    "            \n",
    "            except ValueError:\n",
    "                print(\"Invalid input. Please enter numbers only.\")\n",
    "            except Exception as e:\n",
    "                print(f\"An error occurred: {e}\")\n",
    "\n",
    "if __name__ == \"__main__\":\n",
    "    math_ops = MathOperations()\n",
    "    math_ops.execute()\n"
   ]
  },
  {
   "cell_type": "code",
   "execution_count": null,
   "id": "f04930dd-7273-4027-ad03-5f4426f598b9",
   "metadata": {},
   "outputs": [],
   "source": []
  }
 ],
 "metadata": {
  "kernelspec": {
   "display_name": "Python 3 (ipykernel)",
   "language": "python",
   "name": "python3"
  },
  "language_info": {
   "codemirror_mode": {
    "name": "ipython",
    "version": 3
   },
   "file_extension": ".py",
   "mimetype": "text/x-python",
   "name": "python",
   "nbconvert_exporter": "python",
   "pygments_lexer": "ipython3",
   "version": "3.12.7"
  }
 },
 "nbformat": 4,
 "nbformat_minor": 5
}
