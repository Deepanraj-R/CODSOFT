{
 "cells": [
  {
   "cell_type": "code",
   "execution_count": 6,
   "id": "15b8f471-e410-43da-ad13-8679ddec531d",
   "metadata": {},
   "outputs": [
    {
     "name": "stdin",
     "output_type": "stream",
     "text": [
      "Enter password length:  8\n"
     ]
    },
    {
     "name": "stdout",
     "output_type": "stream",
     "text": [
      "Generated Password: QKsDjXXa\n"
     ]
    }
   ],
   "source": [
    "import random\n",
    "import string\n",
    "\n",
    "def create_passcode(size):\n",
    "    \n",
    "    if size <= 0:\n",
    "        raise ValueError(\" Invalid input:Password length must be a positive integer.\")\n",
    "    \n",
    "    characters = string.ascii_letters + string.digits + string.punctuation\n",
    "    return ''.join(random.choice(characters) for _ in range(size))\n",
    "\n",
    "def main():\n",
    "    try:\n",
    "        size = int(input(\"Enter password length: \"))\n",
    "        print(\"Generated Password:\", create_passcode(size))\n",
    "    except ValueError as e:\n",
    "        print(f\"Error: {e}\")\n",
    "\n",
    "if __name__ == \"__main__\":\n",
    "    main()\n"
   ]
  }
 ],
 "metadata": {
  "kernelspec": {
   "display_name": "Python 3 (ipykernel)",
   "language": "python",
   "name": "python3"
  },
  "language_info": {
   "codemirror_mode": {
    "name": "ipython",
    "version": 3
   },
   "file_extension": ".py",
   "mimetype": "text/x-python",
   "name": "python",
   "nbconvert_exporter": "python",
   "pygments_lexer": "ipython3",
   "version": "3.12.7"
  }
 },
 "nbformat": 4,
 "nbformat_minor": 5
}
