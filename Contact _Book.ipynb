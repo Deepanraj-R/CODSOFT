{
 "cells": [
  {
   "cell_type": "code",
   "execution_count": 4,
   "id": "42c4bdb0-97a0-473e-af00-4f829aa307d6",
   "metadata": {},
   "outputs": [
    {
     "name": "stdout",
     "output_type": "stream",
     "text": [
      "\n",
      "Contact Book\n",
      "1. Add\n",
      "2. View\n",
      "3. Search\n",
      "4. Update\n",
      "5. Delete\n",
      "6. Exit\n"
     ]
    },
    {
     "name": "stdin",
     "output_type": "stream",
     "text": [
      "Enter choice:  1\n",
      "Enter name:  kolhi\n",
      "Enter the phone number:  656454\n",
      "Enter email:  kingkolhi@gmail.com\n",
      "Enter address:  delhi\n"
     ]
    },
    {
     "name": "stdout",
     "output_type": "stream",
     "text": [
      "Kolhi added.\n",
      "\n",
      "Contact Book\n",
      "1. Add\n",
      "2. View\n",
      "3. Search\n",
      "4. Update\n",
      "5. Delete\n",
      "6. Exit\n"
     ]
    },
    {
     "name": "stdin",
     "output_type": "stream",
     "text": [
      "Enter choice:  1\n",
      "Enter name:  dhoni\n",
      "Enter the phone number:  436785\n",
      "Enter email:  thaladhoni@gmail.com\n",
      "Enter address:  ranchi\n"
     ]
    },
    {
     "name": "stdout",
     "output_type": "stream",
     "text": [
      "Dhoni added.\n",
      "\n",
      "Contact Book\n",
      "1. Add\n",
      "2. View\n",
      "3. Search\n",
      "4. Update\n",
      "5. Delete\n",
      "6. Exit\n"
     ]
    },
    {
     "name": "stdin",
     "output_type": "stream",
     "text": [
      "Enter choice:  2\n"
     ]
    },
    {
     "name": "stdout",
     "output_type": "stream",
     "text": [
      "\n",
      "Kolhi:\n",
      "  Phone: 656454\n",
      "  Email: kingkolhi@gmail.com\n",
      "  Address: delhi\n",
      "\n",
      "Dhoni:\n",
      "  Phone: 436785\n",
      "  Email: thaladhoni@gmail.com\n",
      "  Address: ranchi\n",
      "\n",
      "Contact Book\n",
      "1. Add\n",
      "2. View\n",
      "3. Search\n",
      "4. Update\n",
      "5. Delete\n",
      "6. Exit\n"
     ]
    },
    {
     "name": "stdin",
     "output_type": "stream",
     "text": [
      "Enter choice:  6\n"
     ]
    },
    {
     "name": "stdout",
     "output_type": "stream",
     "text": [
      "Goodbye!\n"
     ]
    }
   ],
   "source": [
    "contact_list = {}\n",
    "\n",
    "def insert_contact():\n",
    "    contact_name = input(\"Enter name: \").title()\n",
    "    if contact_name in contact_list:\n",
    "        print(f\"Contact with name '{contact_name}' already exists. Would you like to update? (yes/no): \")\n",
    "        update = input().lower()\n",
    "        if update == 'yes':\n",
    "            modify_contact(contact_name) \n",
    "            return\n",
    "        else:\n",
    "            print(\"Contact not added.\")\n",
    "            return\n",
    "\n",
    "    while True:\n",
    "        contact_number = input(\"Enter the phone number: \")\n",
    "        if contact_number.isdigit():\n",
    "            break\n",
    "        else:\n",
    "            print(\"Invalid phone number. Please enter digits only.\")\n",
    "\n",
    "    contact_email = input(\"Enter email: \")\n",
    "    contact_address = input(\"Enter address: \")\n",
    "    contact_list[contact_name] = {\n",
    "        \"phone\": contact_number,\n",
    "        \"email\": contact_email,\n",
    "        \"address\": contact_address\n",
    "    }\n",
    "    print(f\"{contact_name} added.\")\n",
    "\n",
    "\n",
    "def display_contacts():\n",
    "    if not contact_list:\n",
    "        print(\"No contacts.\")\n",
    "        return\n",
    "\n",
    "    for contact_name, details in contact_list.items():\n",
    "        print(f\"\\n{contact_name}:\")  \n",
    "        for key, value in details.items(): \n",
    "            print(f\"  {key.capitalize()}: {value}\")  \n",
    "\n",
    "\n",
    "def find_contact():\n",
    "    search_term = input(\"Search name or phone: \").lower()\n",
    "    found = False\n",
    "    for contact_name, details in contact_list.items():\n",
    "        if search_term in contact_name.lower() or search_term in details[\"phone\"]:\n",
    "            print(f\"\\n{contact_name}:\")  \n",
    "            for key, value in details.items():  \n",
    "                print(f\"  {key.capitalize()}: {value}\") \n",
    "            found = True\n",
    "    if not found:\n",
    "        print(\"Not found.\")\n",
    "\n",
    "\n",
    "def modify_contact(update_name=None):\n",
    "    if update_name is None:\n",
    "        contact_name = input(\"Enter name to update: \").title()\n",
    "    else:\n",
    "        contact_name = update_name\n",
    "\n",
    "    if contact_name in contact_list:\n",
    "        while True:\n",
    "            contact_number = input(\"Enter new phone (or press Enter to keep): \")\n",
    "            if contact_number == \"\" or contact_number.isdigit():\n",
    "                break\n",
    "            else:\n",
    "                print(\"Invalid phone number. Please enter digits only or press Enter to keep the current number.\")\n",
    "\n",
    "        contact_email = input(\"Enter new email (or press Enter to keep): \")\n",
    "        contact_address = input(\"Enter new address (or press Enter to keep): \")\n",
    "\n",
    "        if contact_number != \"\": contact_list[contact_name][\"phone\"] = contact_number \n",
    "        if contact_email != \"\": contact_list[contact_name][\"email\"] = contact_email\n",
    "        if contact_address != \"\": contact_list[contact_name][\"address\"] = contact_address\n",
    "        print(f\"{contact_name} updated.\")\n",
    "    else:\n",
    "        print(\"Contact not found.\")\n",
    "\n",
    "\n",
    "def remove_contact():\n",
    "    contact_name = input(\"Enter name to delete: \").title()\n",
    "    if contact_name in contact_list:\n",
    "        del contact_list[contact_name]\n",
    "        print(f\"{contact_name} deleted.\")\n",
    "    else:\n",
    "        print(\"Contact not found.\")\n",
    "\n",
    "\n",
    "while True:\n",
    "    print(\"\\nContact Book\")\n",
    "    print(\"1. Add\")\n",
    "    print(\"2. View\")\n",
    "    print(\"3. Search\")\n",
    "    print(\"4. Update\")\n",
    "    print(\"5. Delete\")\n",
    "    print(\"6. Exit\")\n",
    "\n",
    "    user_choice = input(\"Enter choice: \")\n",
    "\n",
    "    if user_choice == \"1\": insert_contact()\n",
    "    elif user_choice == \"2\": display_contacts()\n",
    "    elif user_choice == \"3\": find_contact()\n",
    "    elif user_choice == \"4\": modify_contact()\n",
    "    elif user_choice == \"5\": remove_contact()\n",
    "    elif user_choice == \"6\": break\n",
    "    else:\n",
    "        print(\"Invalid choice.\")\n",
    "\n",
    "print(\"Goodbye!\")"
   ]
  }
 ],
 "metadata": {
  "kernelspec": {
   "display_name": "Python 3 (ipykernel)",
   "language": "python",
   "name": "python3"
  },
  "language_info": {
   "codemirror_mode": {
    "name": "ipython",
    "version": 3
   },
   "file_extension": ".py",
   "mimetype": "text/x-python",
   "name": "python",
   "nbconvert_exporter": "python",
   "pygments_lexer": "ipython3",
   "version": "3.12.7"
  }
 },
 "nbformat": 4,
 "nbformat_minor": 5
}
