{
 "cells": [
  {
   "cell_type": "code",
   "execution_count": 4,
   "id": "c7a08167-cd23-433a-9e5d-95e668b5b636",
   "metadata": {},
   "outputs": [
    {
     "name": "stdout",
     "output_type": "stream",
     "text": [
      "\n",
      "To-Do List Application\n",
      "1. Add Task\n",
      "2. Delete Task\n",
      "3. Mark Task as Completed\n",
      "4. Show all Tasks\n",
      "5. Exit\n"
     ]
    },
    {
     "name": "stdin",
     "output_type": "stream",
     "text": [
      "Select your option[1-Add, 2-Delete, 3-Complete, 4-View, 5-Exit]:  1\n",
      "Enter the task:  monday morning have meeting\n"
     ]
    },
    {
     "name": "stdout",
     "output_type": "stream",
     "text": [
      "Task \"monday morning have meeting\" added to the list.\n",
      "\n",
      "To-Do List Application\n",
      "1. Add Task\n",
      "2. Delete Task\n",
      "3. Mark Task as Completed\n",
      "4. Show all Tasks\n",
      "5. Exit\n"
     ]
    },
    {
     "name": "stdin",
     "output_type": "stream",
     "text": [
      "Select your option[1-Add, 2-Delete, 3-Complete, 4-View, 5-Exit]:  1\n",
      "Enter the task:  go to gym\n"
     ]
    },
    {
     "name": "stdout",
     "output_type": "stream",
     "text": [
      "Task \"go to gym\" added to the list.\n",
      "\n",
      "To-Do List Application\n",
      "1. Add Task\n",
      "2. Delete Task\n",
      "3. Mark Task as Completed\n",
      "4. Show all Tasks\n",
      "5. Exit\n"
     ]
    },
    {
     "name": "stdin",
     "output_type": "stream",
     "text": [
      "Select your option[1-Add, 2-Delete, 3-Complete, 4-View, 5-Exit]:  1\n",
      "Enter the task:  sunday have match\n"
     ]
    },
    {
     "name": "stdout",
     "output_type": "stream",
     "text": [
      "Task \"sunday have match\" added to the list.\n",
      "\n",
      "To-Do List Application\n",
      "1. Add Task\n",
      "2. Delete Task\n",
      "3. Mark Task as Completed\n",
      "4. Show all Tasks\n",
      "5. Exit\n"
     ]
    },
    {
     "name": "stdin",
     "output_type": "stream",
     "text": [
      "Select your option[1-Add, 2-Delete, 3-Complete, 4-View, 5-Exit]:  4\n"
     ]
    },
    {
     "name": "stdout",
     "output_type": "stream",
     "text": [
      "0. [Not Done] monday morning have meeting\n",
      "1. [Not Done] go to gym\n",
      "2. [Not Done] sunday have match\n",
      "\n",
      "To-Do List Application\n",
      "1. Add Task\n",
      "2. Delete Task\n",
      "3. Mark Task as Completed\n",
      "4. Show all Tasks\n",
      "5. Exit\n"
     ]
    },
    {
     "name": "stdin",
     "output_type": "stream",
     "text": [
      "Select your option[1-Add, 2-Delete, 3-Complete, 4-View, 5-Exit]:  3\n"
     ]
    },
    {
     "name": "stdout",
     "output_type": "stream",
     "text": [
      "0. [Not Done] monday morning have meeting\n",
      "1. [Not Done] go to gym\n",
      "2. [Not Done] sunday have match\n"
     ]
    },
    {
     "name": "stdin",
     "output_type": "stream",
     "text": [
      "Enter the task index to mark as completed:  0\n"
     ]
    },
    {
     "name": "stdout",
     "output_type": "stream",
     "text": [
      "Task \"monday morning have meeting\" marked as completed.\n",
      "\n",
      "To-Do List Application\n",
      "1. Add Task\n",
      "2. Delete Task\n",
      "3. Mark Task as Completed\n",
      "4. Show all Tasks\n",
      "5. Exit\n"
     ]
    },
    {
     "name": "stdin",
     "output_type": "stream",
     "text": [
      "Select your option[1-Add, 2-Delete, 3-Complete, 4-View, 5-Exit]:  4\n"
     ]
    },
    {
     "name": "stdout",
     "output_type": "stream",
     "text": [
      "0. [Done] monday morning have meeting\n",
      "1. [Not Done] go to gym\n",
      "2. [Not Done] sunday have match\n",
      "\n",
      "To-Do List Application\n",
      "1. Add Task\n",
      "2. Delete Task\n",
      "3. Mark Task as Completed\n",
      "4. Show all Tasks\n",
      "5. Exit\n"
     ]
    },
    {
     "name": "stdin",
     "output_type": "stream",
     "text": [
      "Select your option[1-Add, 2-Delete, 3-Complete, 4-View, 5-Exit]:  5\n"
     ]
    },
    {
     "name": "stdout",
     "output_type": "stream",
     "text": [
      "Exiting the application.\n"
     ]
    }
   ],
   "source": [
    "class ToDoList:\n",
    "    def __init__(self):\n",
    "        self.tasks = []\n",
    "\n",
    "    def Add_new_task(self, task):\n",
    "        self.tasks.append({\"task\": task, \"completed\": False})\n",
    "        print(f'Task \"{task}\" added to the list.')\n",
    "\n",
    "    def Delete_task(self, task_index):\n",
    "        if 0 <= task_index < len(self.tasks):\n",
    "            removed_task = self.tasks.pop(task_index)\n",
    "            print(f'Task \"{removed_task[\"task\"]}\" Deleted from the list.')\n",
    "        else:\n",
    "            print(\"Invalid task index.\")\n",
    "\n",
    "    def Mark_Task_completed(self, task_index):\n",
    "        if 0 <= task_index < len(self.tasks):\n",
    "            self.tasks[task_index][\"completed\"] = True\n",
    "            print(f'Task \"{self.tasks[task_index][\"task\"]}\" marked as completed.')\n",
    "        else:\n",
    "            print(\"Invalid task index.\")\n",
    "\n",
    "    def Show_all_tasks(self):\n",
    "        if not self.tasks:\n",
    "            print(\"No tasks in the list.\")\n",
    "            return\n",
    "        for index, task in enumerate(self.tasks):\n",
    "            status = \"Done\" if task[\"completed\"] else \"Not Done\"\n",
    "            print(f\"{index}. [{status}] {task['task']}\")\n",
    "\n",
    "def main():\n",
    "    todo_list = ToDoList()\n",
    "    \n",
    "    while True:\n",
    "        print(\"\\nTo-Do List Application\")\n",
    "        print(\"1. Add Task\")\n",
    "        print(\"2. Delete Task\")\n",
    "        print(\"3. Mark Task as Completed\")\n",
    "        print(\"4. Show all Tasks\")\n",
    "        print(\"5. Exit\")\n",
    "        \n",
    "        choice = input(\"Select your option[1-Add, 2-Delete, 3-Complete, 4-View, 5-Exit]: \")\n",
    "        \n",
    "        if choice == '1':\n",
    "            task = input(\"Enter the task: \")\n",
    "            todo_list.Add_new_task(task)\n",
    "        elif choice == '2':\n",
    "            todo_list.view_tasks()\n",
    "            task_index = int(input(\"Enter the task index to Delete: \"))\n",
    "            todo_list.Delete_task(task_index)\n",
    "        elif choice == '3':\n",
    "            todo_list.Show_all_tasks()\n",
    "            task_index = int(input(\"Enter the task index to mark as completed: \"))\n",
    "            todo_list.Mark_Task_completed(task_index)\n",
    "        elif choice == '4':\n",
    "            todo_list.Show_all_tasks()\n",
    "        elif choice == '5':\n",
    "            print(\"Exiting the application.\")\n",
    "            break\n",
    "        else:\n",
    "            print(\"Invalid option. Please try again.\")\n",
    "\n",
    "if __name__ == \"__main__\":\n",
    "    main()"
   ]
  },
  {
   "cell_type": "code",
   "execution_count": null,
   "id": "484cbfa7-8981-456c-a12a-ff5e2f685900",
   "metadata": {},
   "outputs": [],
   "source": []
  }
 ],
 "metadata": {
  "kernelspec": {
   "display_name": "Python 3 (ipykernel)",
   "language": "python",
   "name": "python3"
  },
  "language_info": {
   "codemirror_mode": {
    "name": "ipython",
    "version": 3
   },
   "file_extension": ".py",
   "mimetype": "text/x-python",
   "name": "python",
   "nbconvert_exporter": "python",
   "pygments_lexer": "ipython3",
   "version": "3.12.7"
  }
 },
 "nbformat": 4,
 "nbformat_minor": 5
}
